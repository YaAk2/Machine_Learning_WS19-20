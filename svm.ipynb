{
 "cells": [
  {
   "cell_type": "markdown",
   "metadata": {},
   "source": [
    "# Programming assignment 4: SVM"
   ]
  },
  {
   "cell_type": "code",
   "execution_count": null,
   "metadata": {},
   "outputs": [],
   "source": [
    "import numpy as np\n",
    "import matplotlib.pyplot as plt\n",
    "%matplotlib inline\n",
    "\n",
    "from sklearn.datasets import make_blobs\n",
    "\n",
    "from cvxopt import matrix, solvers"
   ]
  },
  {
   "cell_type": "markdown",
   "metadata": {},
   "source": [
    "## Your task"
   ]
  },
  {
   "cell_type": "markdown",
   "metadata": {},
   "source": [
    "In this sheet we will implement a simple binary SVM classifier.\n",
    "Your task is to complete the functions where required. \n",
    "You are only allowed to use built-in Python functions, as well as any `numpy` functions. No other libraries / imports are allowed.\n",
    "\n",
    "To solve optimization tasks we will use **`CVXOPT`** http://cvxopt.org/ - a Python library for convex optimization. If you use `Anaconda`, you can install it using\n",
    "\n",
    "    conda install cvxopt"
   ]
  },
  {
   "cell_type": "markdown",
   "metadata": {},
   "source": [
    "## Exporting the results to PDF"
   ]
  },
  {
   "cell_type": "markdown",
   "metadata": {},
   "source": [
    "Once you complete the assignments, export the entire notebook as PDF and attach it to your homework solutions. \n",
    "The best way of doing that is\n",
    "1. Run all the cells of the notebook.\n",
    "2. Export/download the notebook as PDF (File -> Download as -> PDF via LaTeX (.pdf)).\n",
    "3. Concatenate your solutions for other tasks with the output of Step 2. On a Linux machine you can simply use `pdfunite`, there are similar tools for other platforms too. You can only upload a single PDF file to Moodle.\n",
    "\n",
    "Make sure you are using `nbconvert` Version 5.5 or later by running `jupyter nbconvert --version`. Older versions clip lines that exceed page width, which makes your code harder to grade."
   ]
  },
  {
   "cell_type": "markdown",
   "metadata": {},
   "source": [
    "## Generate and visualize the data"
   ]
  },
  {
   "cell_type": "code",
   "execution_count": null,
   "metadata": {},
   "outputs": [],
   "source": [
    "N = 200  # number of samples\n",
    "D = 2  # number of dimensions\n",
    "C = 2  # number of classes\n",
    "seed = 1234  # for reproducible experiments\n",
    "\n",
    "alpha_tol = 1e-4 # threshold for choosing support vectors\n",
    "\n",
    "X, y = make_blobs(n_samples=N, n_features=D, centers=C, random_state=seed)\n",
    "y[y == 0] = -1  # it is more convenient to have {-1, 1} as class labels (instead of {0, 1})\n",
    "y = y.astype(np.float)\n",
    "plt.figure(figsize=[10, 8])\n",
    "plt.scatter(X[:, 0], X[:, 1], c=y)\n",
    "plt.show()"
   ]
  },
  {
   "cell_type": "markdown",
   "metadata": {},
   "source": [
    "## Task 1: Solving the SVM dual problem"
   ]
  },
  {
   "cell_type": "markdown",
   "metadata": {},
   "source": [
    "Remember, that the SVM dual problem can be formulated as a Quadratic programming (QP) problem.\n",
    "We will solve it using a QP solver from the `CVXOPT` library.\n",
    "\n",
    "We use the following form of a QP problem:\n",
    "$$\n",
    "\\text{minimize}_{\\mathbf{x}}\\quad\n",
    "    \\frac{1}{2}\\mathbf{x}^T \\mathbf{P} \\mathbf{x} + \\mathbf{q}^T \\mathbf{x} \\\\\n",
    "\\text{subject to}\\quad\n",
    "    \\mathbf{G}\\mathbf{x} \\le \\mathbf{h}\\text{ and }\n",
    "    \\mathbf{A}\\mathbf{x} = \\mathbf{b}\\, .\n",
    "$$\n",
    "\n",
    "**Your task** is to formulate the SVM dual problems as a QP of this form and solve it using `CVXOPT`, i.e. specify the matrices $\\mathbf{P}, \\mathbf{G}, \\mathbf{A}$ and vectors $\\mathbf{q}, \\mathbf{h}, \\mathbf{b}$."
   ]
  },
  {
   "cell_type": "code",
   "execution_count": null,
   "metadata": {},
   "outputs": [],
   "source": [
    "def solve_dual_svm(X, y):\n",
    "    \"\"\"Solve the dual formulation of the SVM problem.\n",
    "    \n",
    "    Parameters\n",
    "    ----------\n",
    "    X : array, shape [N, D]\n",
    "        Input features.\n",
    "    y : array, shape [N]\n",
    "        Binary class labels (in {-1, 1} format).\n",
    "    \n",
    "    Returns\n",
    "    -------\n",
    "    alphas : array, shape [N]\n",
    "        Solution of the dual problem.\n",
    "    \"\"\"\n",
    "    # TODO\n",
    "    # These variables have to be of type cvxopt.matrix\n",
    "    \n",
    "    K = y[:, None] * X\n",
    "    P = matrix(K.dot(K.T))\n",
    "    q = matrix(-np.ones([N, 1]))\n",
    "    G = matrix(-np.eye(N))\n",
    "    h = matrix(np.zeros(N))\n",
    "    A = matrix(y.reshape(1, -1))\n",
    "    b = matrix(np.zeros(1))\n",
    "    \n",
    "    solvers.options['show_progress'] = False\n",
    "    solution = solvers.qp(P, q, G, h, A, b)\n",
    "    alphas = np.array(solution['x'])\n",
    "    return alphas.reshape(-1)"
   ]
  },
  {
   "cell_type": "markdown",
   "metadata": {},
   "source": [
    "## Task 2: Recovering the weights and the bias"
   ]
  },
  {
   "cell_type": "code",
   "execution_count": null,
   "metadata": {},
   "outputs": [],
   "source": [
    "def compute_weights_and_bias(alpha, X, y):\n",
    "    \"\"\"Recover the weights w and the bias b using the dual solution alpha.\n",
    "    \n",
    "    Parameters\n",
    "    ----------\n",
    "    alpha : array, shape [N]\n",
    "        Solution of the dual problem.\n",
    "    X : array, shape [N, D]\n",
    "        Input features.\n",
    "    y : array, shape [N]\n",
    "        Binary class labels (in {-1, 1} format).\n",
    "    \n",
    "    Returns\n",
    "    -------\n",
    "    w : array, shape [D]\n",
    "        Weight vector.\n",
    "    b : float\n",
    "        Bias term.\n",
    "    \"\"\"\n",
    "\n",
    "    w = np.dot(X.T, alpha * y)\n",
    "    support_vecs = (alpha > 1e-4)\n",
    "    biases = y[support_vecs] - np.dot(X[support_vecs, :], w)\n",
    "    b = np.mean(biases)  \n",
    "    return w, b"
   ]
  },
  {
   "cell_type": "markdown",
   "metadata": {},
   "source": [
    "## Visualize the result (nothing to do here)"
   ]
  },
  {
   "cell_type": "code",
   "execution_count": null,
   "metadata": {},
   "outputs": [],
   "source": [
    "def plot_data_with_hyperplane_and_support_vectors(X, y, alpha, w, b):\n",
    "    \"\"\"Plot the data as a scatter plot together with the separating hyperplane.\n",
    "    \n",
    "    Parameters\n",
    "    ----------\n",
    "    X : array, shape [N, D]\n",
    "        Input features.\n",
    "    y : array, shape [N]\n",
    "        Binary class labels (in {-1, 1} format).\n",
    "    alpha : array, shape [N]\n",
    "        Solution of the dual problem.\n",
    "    w : array, shape [D]\n",
    "        Weight vector.\n",
    "    b : float\n",
    "        Bias term.\n",
    "    \"\"\"\n",
    "    plt.figure(figsize=[10, 8])\n",
    "    # Plot the hyperplane\n",
    "    slope = -w[0] / w[1]\n",
    "    intercept = -b / w[1]\n",
    "    x = np.linspace(X[:, 0].min(), X[:, 0].max())\n",
    "    plt.plot(x, x * slope + intercept, 'k-', label='decision boundary')\n",
    "    plt.plot(x, x * slope + intercept - 1/w[1], 'k--')\n",
    "    plt.plot(x, x * slope + intercept + 1/w[1], 'k--')\n",
    "    # Plot all the datapoints\n",
    "    plt.scatter(X[:, 0], X[:, 1], c=y)\n",
    "    # Mark the support vectors\n",
    "    support_vecs = (alpha > alpha_tol)\n",
    "    plt.scatter(X[support_vecs, 0], X[support_vecs, 1], c=y[support_vecs], s=250, marker='*', label='support vectors')\n",
    "    plt.xlabel('$x_1$')\n",
    "    plt.ylabel('$x_2$')\n",
    "    plt.legend(loc='upper left')"
   ]
  },
  {
   "cell_type": "markdown",
   "metadata": {},
   "source": [
    "The reference solution is\n",
    "\n",
    "    w = array([0.73935606 0.41780426])\n",
    "    \n",
    "    b = 0.919937145\n",
    "\n",
    "Indices of the support vectors are\n",
    "    \n",
    "    [ 78 134 158]"
   ]
  },
  {
   "cell_type": "code",
   "execution_count": null,
   "metadata": {},
   "outputs": [],
   "source": [
    "alpha = solve_dual_svm(X, y)\n",
    "w, b = compute_weights_and_bias(alpha, X, y)\n",
    "print(\"w =\", w)\n",
    "print(\"b =\", b)\n",
    "print(\"support vectors:\", np.arange(len(alpha))[alpha > alpha_tol])"
   ]
  },
  {
   "cell_type": "code",
   "execution_count": null,
   "metadata": {},
   "outputs": [],
   "source": [
    "plot_data_with_hyperplane_and_support_vectors(X, y, alpha, w, b)\n",
    "plt.show()"
   ]
  }
 ],
 "metadata": {
  "kernelspec": {
   "display_name": "Python 3",
   "language": "python",
   "name": "python3"
  },
  "language_info": {
   "codemirror_mode": {
    "name": "ipython",
    "version": 3
   },
   "file_extension": ".py",
   "mimetype": "text/x-python",
   "name": "python",
   "nbconvert_exporter": "python",
   "pygments_lexer": "ipython3",
   "version": "3.7.3"
  }
 },
 "nbformat": 4,
 "nbformat_minor": 2
}
